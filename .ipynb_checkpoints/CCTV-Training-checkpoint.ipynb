{
 "cells": [
  {
   "cell_type": "code",
   "execution_count": null,
   "metadata": {},
   "outputs": [],
   "source": [
    "from sklearn.model_selection import train_test_split\n",
    "from sklearn.preprocessing import LabelEncoder\n",
    "from keras.models import load_model\n",
    "from thundersvm import SVC\n",
    "import numpy as np\n",
    "import cv2"
   ]
  },
  {
   "cell_type": "code",
   "execution_count": null,
   "metadata": {},
   "outputs": [],
   "source": [
    "facenet_model = load_model('facenet_keras.h5')"
   ]
  },
  {
   "cell_type": "code",
   "execution_count": null,
   "metadata": {},
   "outputs": [],
   "source": [
    "def get_embedding_and_label(directory):\n",
    "    X, y = list(), list()\n",
    "    # enumerate folders, on per class\n",
    "    for subdir in listdir(directory):\n",
    "        path = directory + subdir + '/'\n",
    "        # skip any files that might be in the dir\n",
    "        if not isdir(path):\n",
    "            continue\n",
    "        embedding = list()\n",
    "        # enumerate files\n",
    "        for filename in listdir(path):\n",
    "            file_path = directory + filename\n",
    "\n",
    "            face = cv2.imread(file_path)\n",
    "            face = cv2.resize(face, (160, 160))\n",
    "            face = face.astype('float32')\n",
    "\n",
    "            # standardize pixel values across channels (global)\n",
    "            mean, std = face.mean(), face.std()\n",
    "            face = (face - mean) / std\n",
    "            sample = np.expand_dims(face, axis=0)\n",
    "            embedding = facenet_model.predict(sample)\n",
    "\n",
    "            embeddings.append(embedding)\n",
    "\n",
    "        labels = [subdir for _ in range(len(embeddings))]\n",
    "\n",
    "        #print('>loaded %d examples for class: %s' % (len(faces), subdir))\n",
    "\n",
    "        X.extend(embeddings)\n",
    "        y.extend(labels)\n",
    "    return asarray(X), asarray(y)"
   ]
  },
  {
   "cell_type": "code",
   "execution_count": null,
   "metadata": {},
   "outputs": [],
   "source": [
    "directory = './'\n",
    "feature, target = get_embedding_and_label(directory)\n",
    "\n",
    "X_train, X_test, y_train, y_test = train_test_split(feature, target, test_size=.2, random_state=101)\n",
    "\n",
    "encoder = LabelEncoder()\n",
    "encoder.fit(y_train)\n",
    "\n",
    "y_train = encoder.transform(y_train)\n",
    "y_test = encoder.transform(y_test)\n",
    "\n",
    "model = SVC(C=100, kernel='rbf')\n",
    "\n",
    "# Fit the model to training data\n",
    "model.fit(X_train, y_train)\n",
    "\n",
    "# Check test set accuracy\n",
    "accuracy = model.score(X_test, y_test)\n",
    "\n",
    "print('Accuracy: {}'.format(accuracy))\n",
    "\n",
    "model.save_to_file('model.txt')"
   ]
  }
 ],
 "metadata": {
  "kernelspec": {
   "display_name": "Python 3",
   "language": "python",
   "name": "python3"
  },
  "language_info": {
   "codemirror_mode": {
    "name": "ipython",
    "version": 3
   },
   "file_extension": ".py",
   "mimetype": "text/x-python",
   "name": "python",
   "nbconvert_exporter": "python",
   "pygments_lexer": "ipython3",
   "version": "3.8.2"
  }
 },
 "nbformat": 4,
 "nbformat_minor": 4
}
