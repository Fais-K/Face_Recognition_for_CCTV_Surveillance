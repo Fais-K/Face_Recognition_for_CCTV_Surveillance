{
 "cells": [
  {
   "cell_type": "code",
   "execution_count": null,
   "metadata": {},
   "outputs": [],
   "source": [
    "from imutils.video.filevideostream import FileVideoStream\n",
    "from keras.models import load_model\n",
    "from matplotlib import pyplot\n",
    "from mtcnn.mtcnn import MTCNN\n",
    "import numpy as np\n",
    "from thundersvm import SVC\n",
    "import argparse\n",
    "import cv2"
   ]
  },
  {
   "cell_type": "code",
   "execution_count": null,
   "metadata": {},
   "outputs": [],
   "source": [
    "# create the detector, using default weights\n",
    "detector = MTCNN()\n",
    "facenet_model = load_model('facenet_keras.h5')\n",
    "thundersvm = SVC()\n",
    "thundersvm.load_from_file('model.txt')\n",
    "\n",
    "def detect_and_recognize(frame):\n",
    "    # detect faces in the image    \n",
    "    detections = detector.detect_faces(frame)\n",
    "    \n",
    "    for item in detections:\n",
    "        x, y, width, height = item['box']\n",
    "        \n",
    "        face = frame[x:x+width, y:y+height]\n",
    "        face = cv2.resize(face, (160, 160))\n",
    "        face = face.astype('float32')\n",
    "        \n",
    "        # standardize pixel values across channels (global)\n",
    "        mean, std = face.mean(), face.std()\n",
    "        face = (face - mean) / std\n",
    "        sample = np.expand_dims(face, axis=0)\n",
    "        \n",
    "        # make prediction to get embedding\n",
    "        embedding = facenet_model.predict(sample)\n",
    "        label = thundersvm.predict(embedding[0])\n",
    "        \n",
    "        (label_width, label_height), baseline = cv2.getTextSize(label, cv2.FONT_HERSHEY_SIMPLEX, 0.9, 2)\n",
    "        \n",
    "        frame = cv2.rectange(frame, (x, y), (x+width, y+height), color=(0, 0, 255) thickness=2)\n",
    "        frame = cv2.rectange(frame, (x, y), (x+label_width, y+label_height), color=(0, 0, 255) thickness=-1)\n",
    "        \n",
    "        cv2.putText(image, label, (x, y-2), cv2.FONT_HERSHEY_SIMPLEX, 0.9, (190, 190, 190), 2)\n",
    "        \n",
    "        cv2.imshow(\"output\", frame)\n",
    "        \n",
    "        if cv2.waitKey(1) & 0xFF == ord(\"q\"):\n",
    "            break"
   ]
  },
  {
   "cell_type": "code",
   "execution_count": null,
   "metadata": {},
   "outputs": [],
   "source": [
    "ap = argparse.ArgumentParser()\n",
    "ap.add_argument(\"-i\", \"--image\", required=True, help=\"path to the image\")\n",
    "ap.add_argument(\"-v\", \"--video\", required=True, help=\"path to the video\")\n",
    "args = vars(ap.parse_args())\n",
    "\n",
    "fvs = FileVideoStream(args[\"video\"]).start()\n",
    "time.sleep(1)\n",
    "\n",
    "while True:\n",
    "    frame = fvs.read()\n",
    "\n",
    "    if frame is None:\n",
    "        break\n",
    "    \n",
    "    #gray = cv2.cvtColor(frame, cv2.COLOR_BGR2GRAY)\n",
    "    \n",
    "    detect_and_recognize(frame)\n",
    "\n",
    "fvs.stop()"
   ]
  },
  {
   "cell_type": "code",
   "execution_count": null,
   "metadata": {},
   "outputs": [],
   "source": []
  }
 ],
 "metadata": {
  "kernelspec": {
   "display_name": "Python 3",
   "language": "python",
   "name": "python3"
  },
  "language_info": {
   "codemirror_mode": {
    "name": "ipython",
    "version": 3
   },
   "file_extension": ".py",
   "mimetype": "text/x-python",
   "name": "python",
   "nbconvert_exporter": "python",
   "pygments_lexer": "ipython3",
   "version": "3.8.2"
  }
 },
 "nbformat": 4,
 "nbformat_minor": 4
}
